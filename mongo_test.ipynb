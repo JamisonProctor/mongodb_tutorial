{
 "cells": [
  {
   "cell_type": "code",
   "execution_count": 22,
   "metadata": {},
   "outputs": [],
   "source": [
    "from mongodb_converastion_logging import initialize_conversation, update_conversation, check_conversation\n",
    "conversation_id = initialize_conversation()"
   ]
  },
  {
   "cell_type": "code",
   "execution_count": 23,
   "metadata": {},
   "outputs": [],
   "source": [
    "query = \"abc\"\n",
    "response = \"def\""
   ]
  },
  {
   "cell_type": "code",
   "execution_count": 24,
   "metadata": {},
   "outputs": [],
   "source": [
    "update_conversation(conversation_id, query, response)"
   ]
  },
  {
   "cell_type": "code",
   "execution_count": 25,
   "metadata": {},
   "outputs": [],
   "source": [
    "query = \"abc\"\n",
    "response = \"def\""
   ]
  },
  {
   "cell_type": "code",
   "execution_count": 26,
   "metadata": {},
   "outputs": [],
   "source": [
    "update_conversation(conversation_id, query, response)"
   ]
  },
  {
   "cell_type": "code",
   "execution_count": 27,
   "metadata": {},
   "outputs": [
    {
     "name": "stdout",
     "output_type": "stream",
     "text": [
      "Conversation ID: cee6f613-1200-4daa-ae0e-f63dbecd893e\n",
      "==================================================\n",
      "Interaction #1\n",
      "User: abc\n",
      "Chatbot: def\n",
      "Timestamp: 2023-09-25T19:03:11.763163\n",
      "--------------------------------------------------\n",
      "Interaction #2\n",
      "User: abc\n",
      "Chatbot: def\n",
      "Timestamp: 2023-09-25T19:03:13.088224\n",
      "--------------------------------------------------\n"
     ]
    }
   ],
   "source": [
    "check_conversation(conversation_id)"
   ]
  }
 ],
 "metadata": {
  "kernelspec": {
   "display_name": "venv",
   "language": "python",
   "name": "python3"
  },
  "language_info": {
   "codemirror_mode": {
    "name": "ipython",
    "version": 3
   },
   "file_extension": ".py",
   "mimetype": "text/x-python",
   "name": "python",
   "nbconvert_exporter": "python",
   "pygments_lexer": "ipython3",
   "version": "3.11.5"
  },
  "orig_nbformat": 4
 },
 "nbformat": 4,
 "nbformat_minor": 2
}
